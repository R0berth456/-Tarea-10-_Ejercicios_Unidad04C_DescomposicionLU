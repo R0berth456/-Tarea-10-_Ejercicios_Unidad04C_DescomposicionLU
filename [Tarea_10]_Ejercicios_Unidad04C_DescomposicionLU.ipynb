{
  "nbformat": 4,
  "nbformat_minor": 0,
  "metadata": {
    "colab": {
      "provenance": [],
      "authorship_tag": "ABX9TyM3u7y7EsijjnUXkYc0vZg5",
      "include_colab_link": true
    },
    "kernelspec": {
      "name": "python3",
      "display_name": "Python 3"
    },
    "language_info": {
      "name": "python"
    }
  },
  "cells": [
    {
      "cell_type": "markdown",
      "metadata": {
        "id": "view-in-github",
        "colab_type": "text"
      },
      "source": [
        "<a href=\"https://colab.research.google.com/github/R0berth456/-Tarea-10-_Ejercicios_Unidad04C_DescomposicionLU/blob/main/%5BTarea_10%5D_Ejercicios_Unidad04C_DescomposicionLU.ipynb\" target=\"_parent\"><img src=\"https://colab.research.google.com/assets/colab-badge.svg\" alt=\"Open In Colab\"/></a>"
      ]
    },
    {
      "cell_type": "markdown",
      "source": [
        "Literal 1"
      ],
      "metadata": {
        "id": "JnM6589l-fEm"
      }
    },
    {
      "cell_type": "markdown",
      "source": [
        "a)"
      ],
      "metadata": {
        "id": "-G_iHF8r-pPL"
      }
    },
    {
      "cell_type": "code",
      "execution_count": 1,
      "metadata": {
        "colab": {
          "base_uri": "https://localhost:8080/"
        },
        "id": "ouMF2byU5u0M",
        "outputId": "71b6a601-cc43-45cf-abdb-49cc1e1cb6de"
      },
      "outputs": [
        {
          "output_type": "stream",
          "name": "stdout",
          "text": [
            "[[-4 10]\n",
            " [ 1 15]]\n"
          ]
        }
      ],
      "source": [
        "import numpy as np\n",
        "\n",
        "A = [\n",
        "    [2, -3],\n",
        "    [3, -1]\n",
        "]\n",
        "\n",
        "B = [\n",
        "    [1, 5],\n",
        "    [2, 0]\n",
        "]\n",
        "\n",
        "C = np.matmul(A, B)\n",
        "print(C)"
      ]
    },
    {
      "cell_type": "markdown",
      "source": [
        "b)"
      ],
      "metadata": {
        "id": "zakqJk65_ang"
      }
    },
    {
      "cell_type": "code",
      "source": [
        "\n",
        "A = [\n",
        "    [2, -3],\n",
        "    [3, -1]\n",
        "]\n",
        "\n",
        "B = [\n",
        "    [1, 5, -4],\n",
        "    [-3, 2, 0]\n",
        "]\n",
        "\n",
        "C = np.matmul(A, B)\n",
        "print(C)\n"
      ],
      "metadata": {
        "colab": {
          "base_uri": "https://localhost:8080/"
        },
        "id": "BiQJU330_bZ1",
        "outputId": "c151bed4-5afb-471a-e67e-2e18f27bd880"
      },
      "execution_count": 2,
      "outputs": [
        {
          "output_type": "stream",
          "name": "stdout",
          "text": [
            "[[ 11   4  -8]\n",
            " [  6  13 -12]]\n"
          ]
        }
      ]
    },
    {
      "cell_type": "markdown",
      "source": [
        "c)"
      ],
      "metadata": {
        "id": "_30Kzi9K_l2h"
      }
    },
    {
      "cell_type": "code",
      "source": [
        "\n",
        "A = [\n",
        "    [2, -3, 1],\n",
        "    [4, 3, 0],\n",
        "    [5, 2, -4]\n",
        "]\n",
        "\n",
        "B = [\n",
        "    [0, 1, -2],\n",
        "    [1, 0, -1],\n",
        "    [2, 3, -2]\n",
        "]\n",
        "\n",
        "C = np.matmul(A, B)\n",
        "print(C)\n"
      ],
      "metadata": {
        "colab": {
          "base_uri": "https://localhost:8080/"
        },
        "id": "zdYcl_9E_mz2",
        "outputId": "7ffc668e-b8e3-48ca-858a-d7e5fb9255f9"
      },
      "execution_count": 3,
      "outputs": [
        {
          "output_type": "stream",
          "name": "stdout",
          "text": [
            "[[ -1   5  -3]\n",
            " [  3   4 -11]\n",
            " [ -6  -7  -4]]\n"
          ]
        }
      ]
    },
    {
      "cell_type": "markdown",
      "source": [
        "d)"
      ],
      "metadata": {
        "id": "snYRjUxz_4fP"
      }
    },
    {
      "cell_type": "code",
      "source": [
        "A = [\n",
        "    [2, 1, 2],\n",
        "    [-2, 3, 0],\n",
        "    [2, -1, 3]\n",
        "]\n",
        "\n",
        "B = [\n",
        "    [1, -2],\n",
        "    [-4, 1],\n",
        "    [0, 2]\n",
        "]\n",
        "\n",
        "C = np.matmul(A, B)\n",
        "print(C)\n"
      ],
      "metadata": {
        "colab": {
          "base_uri": "https://localhost:8080/"
        },
        "id": "DiC6Aego_6IN",
        "outputId": "a0dbdc52-c69f-4f00-e635-812993ac70a7"
      },
      "execution_count": 4,
      "outputs": [
        {
          "output_type": "stream",
          "name": "stdout",
          "text": [
            "[[ -2   1]\n",
            " [-14   7]\n",
            " [  6   1]]\n"
          ]
        }
      ]
    },
    {
      "cell_type": "markdown",
      "source": [
        "Segundo Literal"
      ],
      "metadata": {
        "id": "PPW0O3PjAJK5"
      }
    },
    {
      "cell_type": "markdown",
      "source": [
        "a)"
      ],
      "metadata": {
        "id": "z4vKUHJXALJH"
      }
    },
    {
      "cell_type": "code",
      "source": [
        "\n",
        "A = [\n",
        "    [4, 2, 6],\n",
        "    [3, 0, 7],\n",
        "    [-2, -1, -3]\n",
        "]\n",
        "\n",
        "B = np.linalg.inv(A)\n",
        "print(B)"
      ],
      "metadata": {
        "colab": {
          "base_uri": "https://localhost:8080/",
          "height": 339
        },
        "id": "Xyhl8qryAL_S",
        "outputId": "fc2faef8-079b-4f86-9f9b-bb62f64576db"
      },
      "execution_count": 5,
      "outputs": [
        {
          "output_type": "error",
          "ename": "LinAlgError",
          "evalue": "Singular matrix",
          "traceback": [
            "\u001b[0;31m---------------------------------------------------------------------------\u001b[0m",
            "\u001b[0;31mLinAlgError\u001b[0m                               Traceback (most recent call last)",
            "\u001b[0;32m<ipython-input-5-cff78e624708>\u001b[0m in \u001b[0;36m<cell line: 7>\u001b[0;34m()\u001b[0m\n\u001b[1;32m      5\u001b[0m ]\n\u001b[1;32m      6\u001b[0m \u001b[0;34m\u001b[0m\u001b[0m\n\u001b[0;32m----> 7\u001b[0;31m \u001b[0mB\u001b[0m \u001b[0;34m=\u001b[0m \u001b[0mnp\u001b[0m\u001b[0;34m.\u001b[0m\u001b[0mlinalg\u001b[0m\u001b[0;34m.\u001b[0m\u001b[0minv\u001b[0m\u001b[0;34m(\u001b[0m\u001b[0mA\u001b[0m\u001b[0;34m)\u001b[0m\u001b[0;34m\u001b[0m\u001b[0;34m\u001b[0m\u001b[0m\n\u001b[0m\u001b[1;32m      8\u001b[0m \u001b[0mprint\u001b[0m\u001b[0;34m(\u001b[0m\u001b[0mB\u001b[0m\u001b[0;34m)\u001b[0m\u001b[0;34m\u001b[0m\u001b[0;34m\u001b[0m\u001b[0m\n",
            "\u001b[0;32m/usr/local/lib/python3.10/dist-packages/numpy/linalg/linalg.py\u001b[0m in \u001b[0;36minv\u001b[0;34m(a)\u001b[0m\n\u001b[1;32m    559\u001b[0m     \u001b[0msignature\u001b[0m \u001b[0;34m=\u001b[0m \u001b[0;34m'D->D'\u001b[0m \u001b[0;32mif\u001b[0m \u001b[0misComplexType\u001b[0m\u001b[0;34m(\u001b[0m\u001b[0mt\u001b[0m\u001b[0;34m)\u001b[0m \u001b[0;32melse\u001b[0m \u001b[0;34m'd->d'\u001b[0m\u001b[0;34m\u001b[0m\u001b[0;34m\u001b[0m\u001b[0m\n\u001b[1;32m    560\u001b[0m     \u001b[0mextobj\u001b[0m \u001b[0;34m=\u001b[0m \u001b[0mget_linalg_error_extobj\u001b[0m\u001b[0;34m(\u001b[0m\u001b[0m_raise_linalgerror_singular\u001b[0m\u001b[0;34m)\u001b[0m\u001b[0;34m\u001b[0m\u001b[0;34m\u001b[0m\u001b[0m\n\u001b[0;32m--> 561\u001b[0;31m     \u001b[0mainv\u001b[0m \u001b[0;34m=\u001b[0m \u001b[0m_umath_linalg\u001b[0m\u001b[0;34m.\u001b[0m\u001b[0minv\u001b[0m\u001b[0;34m(\u001b[0m\u001b[0ma\u001b[0m\u001b[0;34m,\u001b[0m \u001b[0msignature\u001b[0m\u001b[0;34m=\u001b[0m\u001b[0msignature\u001b[0m\u001b[0;34m,\u001b[0m \u001b[0mextobj\u001b[0m\u001b[0;34m=\u001b[0m\u001b[0mextobj\u001b[0m\u001b[0;34m)\u001b[0m\u001b[0;34m\u001b[0m\u001b[0;34m\u001b[0m\u001b[0m\n\u001b[0m\u001b[1;32m    562\u001b[0m     \u001b[0;32mreturn\u001b[0m \u001b[0mwrap\u001b[0m\u001b[0;34m(\u001b[0m\u001b[0mainv\u001b[0m\u001b[0;34m.\u001b[0m\u001b[0mastype\u001b[0m\u001b[0;34m(\u001b[0m\u001b[0mresult_t\u001b[0m\u001b[0;34m,\u001b[0m \u001b[0mcopy\u001b[0m\u001b[0;34m=\u001b[0m\u001b[0;32mFalse\u001b[0m\u001b[0;34m)\u001b[0m\u001b[0;34m)\u001b[0m\u001b[0;34m\u001b[0m\u001b[0;34m\u001b[0m\u001b[0m\n\u001b[1;32m    563\u001b[0m \u001b[0;34m\u001b[0m\u001b[0m\n",
            "\u001b[0;32m/usr/local/lib/python3.10/dist-packages/numpy/linalg/linalg.py\u001b[0m in \u001b[0;36m_raise_linalgerror_singular\u001b[0;34m(err, flag)\u001b[0m\n\u001b[1;32m    110\u001b[0m \u001b[0;34m\u001b[0m\u001b[0m\n\u001b[1;32m    111\u001b[0m \u001b[0;32mdef\u001b[0m \u001b[0m_raise_linalgerror_singular\u001b[0m\u001b[0;34m(\u001b[0m\u001b[0merr\u001b[0m\u001b[0;34m,\u001b[0m \u001b[0mflag\u001b[0m\u001b[0;34m)\u001b[0m\u001b[0;34m:\u001b[0m\u001b[0;34m\u001b[0m\u001b[0;34m\u001b[0m\u001b[0m\n\u001b[0;32m--> 112\u001b[0;31m     \u001b[0;32mraise\u001b[0m \u001b[0mLinAlgError\u001b[0m\u001b[0;34m(\u001b[0m\u001b[0;34m\"Singular matrix\"\u001b[0m\u001b[0;34m)\u001b[0m\u001b[0;34m\u001b[0m\u001b[0;34m\u001b[0m\u001b[0m\n\u001b[0m\u001b[1;32m    113\u001b[0m \u001b[0;34m\u001b[0m\u001b[0m\n\u001b[1;32m    114\u001b[0m \u001b[0;32mdef\u001b[0m \u001b[0m_raise_linalgerror_nonposdef\u001b[0m\u001b[0;34m(\u001b[0m\u001b[0merr\u001b[0m\u001b[0;34m,\u001b[0m \u001b[0mflag\u001b[0m\u001b[0;34m)\u001b[0m\u001b[0;34m:\u001b[0m\u001b[0;34m\u001b[0m\u001b[0;34m\u001b[0m\u001b[0m\n",
            "\u001b[0;31mLinAlgError\u001b[0m: Singular matrix"
          ]
        }
      ]
    },
    {
      "cell_type": "markdown",
      "source": [
        "b)"
      ],
      "metadata": {
        "id": "IchRa4_hAbXq"
      }
    },
    {
      "cell_type": "code",
      "source": [
        "\n",
        "A = [\n",
        "    [1, 2, 0],\n",
        "    [2, 1, -1],\n",
        "    [3, 1, 1]\n",
        "]\n",
        "\n",
        "B = np.linalg.inv(A)\n",
        "print(B)"
      ],
      "metadata": {
        "colab": {
          "base_uri": "https://localhost:8080/"
        },
        "id": "3LrAQyWaAcP_",
        "outputId": "1d3f8888-21a1-4d84-9543-8d841a5fe925"
      },
      "execution_count": 6,
      "outputs": [
        {
          "output_type": "stream",
          "name": "stdout",
          "text": [
            "[[-0.25   0.25   0.25 ]\n",
            " [ 0.625 -0.125 -0.125]\n",
            " [ 0.125 -0.625  0.375]]\n"
          ]
        }
      ]
    },
    {
      "cell_type": "markdown",
      "source": [
        "c)"
      ],
      "metadata": {
        "id": "TRI1MSTBBKgT"
      }
    },
    {
      "cell_type": "code",
      "source": [
        "\n",
        "A = [\n",
        "    [1, 1, -1, 1],\n",
        "    [1, 2, -4, -2],\n",
        "    [2, 1, 1, 5],\n",
        "    [-1, 0, -2, -4]\n",
        "]\n",
        "\n",
        "B = np.linalg.inv(A)\n",
        "print(B)"
      ],
      "metadata": {
        "colab": {
          "base_uri": "https://localhost:8080/",
          "height": 339
        },
        "id": "jJvDAR9vBLhz",
        "outputId": "8e60d08d-739c-4cfd-9441-ddcc4d7dc0f4"
      },
      "execution_count": 7,
      "outputs": [
        {
          "output_type": "error",
          "ename": "LinAlgError",
          "evalue": "Singular matrix",
          "traceback": [
            "\u001b[0;31m---------------------------------------------------------------------------\u001b[0m",
            "\u001b[0;31mLinAlgError\u001b[0m                               Traceback (most recent call last)",
            "\u001b[0;32m<ipython-input-7-76fdd71c78d6>\u001b[0m in \u001b[0;36m<cell line: 8>\u001b[0;34m()\u001b[0m\n\u001b[1;32m      6\u001b[0m ]\n\u001b[1;32m      7\u001b[0m \u001b[0;34m\u001b[0m\u001b[0m\n\u001b[0;32m----> 8\u001b[0;31m \u001b[0mB\u001b[0m \u001b[0;34m=\u001b[0m \u001b[0mnp\u001b[0m\u001b[0;34m.\u001b[0m\u001b[0mlinalg\u001b[0m\u001b[0;34m.\u001b[0m\u001b[0minv\u001b[0m\u001b[0;34m(\u001b[0m\u001b[0mA\u001b[0m\u001b[0;34m)\u001b[0m\u001b[0;34m\u001b[0m\u001b[0;34m\u001b[0m\u001b[0m\n\u001b[0m\u001b[1;32m      9\u001b[0m \u001b[0mprint\u001b[0m\u001b[0;34m(\u001b[0m\u001b[0mB\u001b[0m\u001b[0;34m)\u001b[0m\u001b[0;34m\u001b[0m\u001b[0;34m\u001b[0m\u001b[0m\n",
            "\u001b[0;32m/usr/local/lib/python3.10/dist-packages/numpy/linalg/linalg.py\u001b[0m in \u001b[0;36minv\u001b[0;34m(a)\u001b[0m\n\u001b[1;32m    559\u001b[0m     \u001b[0msignature\u001b[0m \u001b[0;34m=\u001b[0m \u001b[0;34m'D->D'\u001b[0m \u001b[0;32mif\u001b[0m \u001b[0misComplexType\u001b[0m\u001b[0;34m(\u001b[0m\u001b[0mt\u001b[0m\u001b[0;34m)\u001b[0m \u001b[0;32melse\u001b[0m \u001b[0;34m'd->d'\u001b[0m\u001b[0;34m\u001b[0m\u001b[0;34m\u001b[0m\u001b[0m\n\u001b[1;32m    560\u001b[0m     \u001b[0mextobj\u001b[0m \u001b[0;34m=\u001b[0m \u001b[0mget_linalg_error_extobj\u001b[0m\u001b[0;34m(\u001b[0m\u001b[0m_raise_linalgerror_singular\u001b[0m\u001b[0;34m)\u001b[0m\u001b[0;34m\u001b[0m\u001b[0;34m\u001b[0m\u001b[0m\n\u001b[0;32m--> 561\u001b[0;31m     \u001b[0mainv\u001b[0m \u001b[0;34m=\u001b[0m \u001b[0m_umath_linalg\u001b[0m\u001b[0;34m.\u001b[0m\u001b[0minv\u001b[0m\u001b[0;34m(\u001b[0m\u001b[0ma\u001b[0m\u001b[0;34m,\u001b[0m \u001b[0msignature\u001b[0m\u001b[0;34m=\u001b[0m\u001b[0msignature\u001b[0m\u001b[0;34m,\u001b[0m \u001b[0mextobj\u001b[0m\u001b[0;34m=\u001b[0m\u001b[0mextobj\u001b[0m\u001b[0;34m)\u001b[0m\u001b[0;34m\u001b[0m\u001b[0;34m\u001b[0m\u001b[0m\n\u001b[0m\u001b[1;32m    562\u001b[0m     \u001b[0;32mreturn\u001b[0m \u001b[0mwrap\u001b[0m\u001b[0;34m(\u001b[0m\u001b[0mainv\u001b[0m\u001b[0;34m.\u001b[0m\u001b[0mastype\u001b[0m\u001b[0;34m(\u001b[0m\u001b[0mresult_t\u001b[0m\u001b[0;34m,\u001b[0m \u001b[0mcopy\u001b[0m\u001b[0;34m=\u001b[0m\u001b[0;32mFalse\u001b[0m\u001b[0;34m)\u001b[0m\u001b[0;34m)\u001b[0m\u001b[0;34m\u001b[0m\u001b[0;34m\u001b[0m\u001b[0m\n\u001b[1;32m    563\u001b[0m \u001b[0;34m\u001b[0m\u001b[0m\n",
            "\u001b[0;32m/usr/local/lib/python3.10/dist-packages/numpy/linalg/linalg.py\u001b[0m in \u001b[0;36m_raise_linalgerror_singular\u001b[0;34m(err, flag)\u001b[0m\n\u001b[1;32m    110\u001b[0m \u001b[0;34m\u001b[0m\u001b[0m\n\u001b[1;32m    111\u001b[0m \u001b[0;32mdef\u001b[0m \u001b[0m_raise_linalgerror_singular\u001b[0m\u001b[0;34m(\u001b[0m\u001b[0merr\u001b[0m\u001b[0;34m,\u001b[0m \u001b[0mflag\u001b[0m\u001b[0;34m)\u001b[0m\u001b[0;34m:\u001b[0m\u001b[0;34m\u001b[0m\u001b[0;34m\u001b[0m\u001b[0m\n\u001b[0;32m--> 112\u001b[0;31m     \u001b[0;32mraise\u001b[0m \u001b[0mLinAlgError\u001b[0m\u001b[0;34m(\u001b[0m\u001b[0;34m\"Singular matrix\"\u001b[0m\u001b[0;34m)\u001b[0m\u001b[0;34m\u001b[0m\u001b[0;34m\u001b[0m\u001b[0m\n\u001b[0m\u001b[1;32m    113\u001b[0m \u001b[0;34m\u001b[0m\u001b[0m\n\u001b[1;32m    114\u001b[0m \u001b[0;32mdef\u001b[0m \u001b[0m_raise_linalgerror_nonposdef\u001b[0m\u001b[0;34m(\u001b[0m\u001b[0merr\u001b[0m\u001b[0;34m,\u001b[0m \u001b[0mflag\u001b[0m\u001b[0;34m)\u001b[0m\u001b[0;34m:\u001b[0m\u001b[0;34m\u001b[0m\u001b[0;34m\u001b[0m\u001b[0m\n",
            "\u001b[0;31mLinAlgError\u001b[0m: Singular matrix"
          ]
        }
      ]
    },
    {
      "cell_type": "markdown",
      "source": [
        "d)"
      ],
      "metadata": {
        "id": "S2qrBj1TBXi7"
      }
    },
    {
      "cell_type": "code",
      "source": [
        "A = [\n",
        "    [4, 0, 0, 0],\n",
        "    [6, 7, 0, 0],\n",
        "    [9, 11, 1, 0],\n",
        "    [5, 4, 1, 1]\n",
        "]\n",
        "\n",
        "B = np.linalg.inv(A)\n",
        "print(B)\n",
        "\n"
      ],
      "metadata": {
        "colab": {
          "base_uri": "https://localhost:8080/"
        },
        "id": "Ign1-z2qBYVT",
        "outputId": "70a30952-e2a6-45e1-f43e-e54199fd22a2"
      },
      "execution_count": 8,
      "outputs": [
        {
          "output_type": "stream",
          "name": "stdout",
          "text": [
            "[[ 0.25        0.          0.          0.        ]\n",
            " [-0.21428571  0.14285714 -0.         -0.        ]\n",
            " [ 0.10714286 -1.57142857  1.         -0.        ]\n",
            " [-0.5         1.         -1.          1.        ]]\n"
          ]
        }
      ]
    },
    {
      "cell_type": "markdown",
      "source": [
        "Tercer Literal"
      ],
      "metadata": {
        "id": "IXF7ClU-BxZs"
      }
    },
    {
      "cell_type": "code",
      "source": [
        "A = [\n",
        "    [1, -1, 2, -1],\n",
        "    [1, 0, -1, 1],\n",
        "    [2, 1, 3, -4],\n",
        "    [0, -1, 1, -1]\n",
        "]\n",
        "\n",
        "b1 = [6, 4, -2, 5]\n",
        "\n",
        "b2 = [1, 1, 2, -1]\n",
        "\n",
        "B1 = np.linalg.solve(A, b1)\n",
        "B2 = np.linalg.solve(A, b2)\n",
        "print(B1)\n",
        "print(B2)"
      ],
      "metadata": {
        "colab": {
          "base_uri": "https://localhost:8080/"
        },
        "id": "eHggAQCSB3m1",
        "outputId": "7f2c8b66-99ca-454a-ee23-8177c7da2f06"
      },
      "execution_count": 9,
      "outputs": [
        {
          "output_type": "stream",
          "name": "stdout",
          "text": [
            "[ 3. -6. -2. -1.]\n",
            "[1. 1. 1. 1.]\n"
          ]
        }
      ]
    },
    {
      "cell_type": "markdown",
      "source": [
        "Cuarto Literal"
      ],
      "metadata": {
        "id": "J2T6rno2CNTf"
      }
    },
    {
      "cell_type": "markdown",
      "source": [
        "Para calcular el valor de alpha con el cual se tiene que la matriz es singular (matriz no invertible) se debe calcular el determinante e igualarlo a cero\\\n",
        "det(A) = -a(1 - 2a) - 3/2(2 + 2)\\\n",
        "det(A) = 2a^2 - a - 6 = 0\\\n",
        "a1 = 2; a2 = -3/2\\\n",
        "Con los valores de a1 y a2 la matriz es singular."
      ],
      "metadata": {
        "id": "rptVRgq4CO5s"
      }
    },
    {
      "cell_type": "markdown",
      "source": [
        "Quinto Literal"
      ],
      "metadata": {
        "id": "KZI0D1lEEUTi"
      }
    },
    {
      "cell_type": "markdown",
      "source": [
        "a)"
      ],
      "metadata": {
        "id": "Pxp4cXEPEjc8"
      }
    },
    {
      "cell_type": "code",
      "source": [
        "A1 = [\n",
        "    [1, 0, 0],\n",
        "    [2, 1, 0],\n",
        "    [-1, 0, 1]\n",
        "]\n",
        "\n",
        "A2 = [\n",
        "    [2, 3, -1],\n",
        "    [0, -2, 1],\n",
        "    [0, 0, 3]\n",
        "]\n",
        "\n",
        "b = [2, -1, 1]\n",
        "\n",
        "C = np.matmul(A1, A2)\n",
        "C = np.linalg.solve(C, b)\n",
        "print(C)\n"
      ],
      "metadata": {
        "colab": {
          "base_uri": "https://localhost:8080/"
        },
        "id": "arWziFmLEWGM",
        "outputId": "e06c4242-0f8b-4793-e111-890d2afae3eb"
      },
      "execution_count": 10,
      "outputs": [
        {
          "output_type": "stream",
          "name": "stdout",
          "text": [
            "[-3.  3.  1.]\n"
          ]
        }
      ]
    },
    {
      "cell_type": "markdown",
      "source": [
        "b)"
      ],
      "metadata": {
        "id": "roLiDItXEujx"
      }
    },
    {
      "cell_type": "code",
      "source": [
        "A1 = [\n",
        "    [2, 0, 0],\n",
        "    [-1, 1, 0],\n",
        "    [3, 2, -1]\n",
        "]\n",
        "\n",
        "A2 = [\n",
        "    [1, 1, 1],\n",
        "    [0, 1, 2],\n",
        "    [0, 0, 1]\n",
        "]\n",
        "\n",
        "b = [-1, 3, 0]\n",
        "\n",
        "C = np.matmul(A1, A2)\n",
        "C = np.linalg.solve(C, b)\n",
        "print(C)\n"
      ],
      "metadata": {
        "colab": {
          "base_uri": "https://localhost:8080/"
        },
        "id": "XsGkOg-XEvl-",
        "outputId": "918e8d2c-5612-4baf-b1aa-e2332f98c4ff"
      },
      "execution_count": 11,
      "outputs": [
        {
          "output_type": "stream",
          "name": "stdout",
          "text": [
            "[ 0.5 -4.5  3.5]\n"
          ]
        }
      ]
    },
    {
      "cell_type": "markdown",
      "source": [
        "Sexto Literal"
      ],
      "metadata": {
        "id": "mHrTGNwPFAgR"
      }
    },
    {
      "cell_type": "code",
      "source": [
        "def descomposicion_LU(A: np.ndarray) -> tuple[np.ndarray, np.ndarray]:\n",
        "    A = np.array(\n",
        "        A, dtype=float\n",
        "    )\n",
        "\n",
        "    assert A.shape[0] == A.shape[1], \"La matriz A debe ser cuadrada.\"\n",
        "    n = A.shape[0]\n",
        "\n",
        "    L = np.zeros((n, n), dtype=float)\n",
        "\n",
        "    for i in range(0, n):  # loop por columna\n",
        "\n",
        "        # --- deterimnar pivote\n",
        "        if A[i, i] == 0:\n",
        "            raise ValueError(\"No existe solucion unica.\")\n",
        "\n",
        "        # --- Eliminación: loop por fila\n",
        "        L[i, i] = 1\n",
        "        for j in range(i + 1, n):\n",
        "            m = A[j, i] / A[i, i]\n",
        "            A[j, i:] = A[j, i:] - m * A[i, i:]\n",
        "\n",
        "            L[j, i] = m\n",
        "\n",
        "    if A[n - 1, n - 1] == 0:\n",
        "        raise ValueError(\"No existe solucion unica.\")\n",
        "\n",
        "    return L, A"
      ],
      "metadata": {
        "id": "3UupuB70FK03"
      },
      "execution_count": 12,
      "outputs": []
    },
    {
      "cell_type": "markdown",
      "source": [
        "a)"
      ],
      "metadata": {
        "id": "oESXU5GgFCT2"
      }
    },
    {
      "cell_type": "code",
      "source": [
        "A = [\n",
        "    [2, -1, 1],\n",
        "    [3, 3, 9],\n",
        "    [3, 3, 5]\n",
        "]\n",
        "\n",
        "L, U = descomposicion_LU(A)\n",
        "print(L)\n",
        "print()\n",
        "print(U)"
      ],
      "metadata": {
        "colab": {
          "base_uri": "https://localhost:8080/"
        },
        "id": "HJMvUDhYFDyW",
        "outputId": "0ee4cda6-c471-41e8-8a7d-67c2143e8eb7"
      },
      "execution_count": 13,
      "outputs": [
        {
          "output_type": "stream",
          "name": "stdout",
          "text": [
            "[[1.  0.  0. ]\n",
            " [1.5 1.  0. ]\n",
            " [1.5 1.  1. ]]\n",
            "\n",
            "[[ 2.  -1.   1. ]\n",
            " [ 0.   4.5  7.5]\n",
            " [ 0.   0.  -4. ]]\n"
          ]
        }
      ]
    },
    {
      "cell_type": "markdown",
      "source": [
        "b)"
      ],
      "metadata": {
        "id": "1V7lyqllFfPd"
      }
    },
    {
      "cell_type": "code",
      "source": [
        "A = [\n",
        "    [1.012, -2.132, 3.104],\n",
        "    [-2.132, 4.096, -7.013],\n",
        "    [3.104, -7.013, 0.014]\n",
        "]\n",
        "\n",
        "L, U = descomposicion_LU(A)\n",
        "print(L)\n",
        "print()\n",
        "print(U)"
      ],
      "metadata": {
        "colab": {
          "base_uri": "https://localhost:8080/"
        },
        "id": "aFrwuSbxFgEt",
        "outputId": "6dac892e-3073-42e2-aea9-1f1bdb677902"
      },
      "execution_count": 14,
      "outputs": [
        {
          "output_type": "stream",
          "name": "stdout",
          "text": [
            "[[ 1.          0.          0.        ]\n",
            " [-2.10671937  1.          0.        ]\n",
            " [ 3.06719368  1.19775553  1.        ]]\n",
            "\n",
            "[[ 1.012      -2.132       3.104     ]\n",
            " [ 0.         -0.39552569 -0.47374308]\n",
            " [ 0.          0.         -8.93914077]]\n"
          ]
        }
      ]
    },
    {
      "cell_type": "markdown",
      "source": [
        "c)"
      ],
      "metadata": {
        "id": "-ywXkkGkFsPb"
      }
    },
    {
      "cell_type": "code",
      "source": [
        "A = [\n",
        "    [2, 0, 0, 0],\n",
        "    [1, 1.5, 0, 0],\n",
        "    [0, -3, 0.5, 0],\n",
        "    [2, -2, 1, 1]\n",
        "]\n",
        "\n",
        "L, U = descomposicion_LU(A)\n",
        "print(L)\n",
        "print()\n",
        "print(U)"
      ],
      "metadata": {
        "colab": {
          "base_uri": "https://localhost:8080/"
        },
        "id": "OH6eoj9xFtLs",
        "outputId": "4106c9ce-4b46-417d-af75-7aabb2257fe6"
      },
      "execution_count": 15,
      "outputs": [
        {
          "output_type": "stream",
          "name": "stdout",
          "text": [
            "[[ 1.          0.          0.          0.        ]\n",
            " [ 0.5         1.          0.          0.        ]\n",
            " [ 0.         -2.          1.          0.        ]\n",
            " [ 1.         -1.33333333  2.          1.        ]]\n",
            "\n",
            "[[2.  0.  0.  0. ]\n",
            " [0.  1.5 0.  0. ]\n",
            " [0.  0.  0.5 0. ]\n",
            " [0.  0.  0.  1. ]]\n"
          ]
        }
      ]
    },
    {
      "cell_type": "markdown",
      "source": [
        "d)"
      ],
      "metadata": {
        "id": "qpkDrCnIF1Zd"
      }
    },
    {
      "cell_type": "code",
      "source": [
        "A = [\n",
        "    [2.1756, 4.0231, -2.1732, 5.1967],\n",
        "    [-4.0231, 6, 0, 1.1973],\n",
        "    [-1, -5.2107, 1.1111, 0],\n",
        "    [6.0235, 7, 0, -4.1561]\n",
        "]\n",
        "\n",
        "L, U = descomposicion_LU(A)\n",
        "print(L)\n",
        "print()\n",
        "print(U)\n"
      ],
      "metadata": {
        "colab": {
          "base_uri": "https://localhost:8080/"
        },
        "id": "t4QS9-6jF2P4",
        "outputId": "d4d682f9-d75a-4c67-b682-d6696748aa8b"
      },
      "execution_count": 16,
      "outputs": [
        {
          "output_type": "stream",
          "name": "stdout",
          "text": [
            "[[ 1.          0.          0.          0.        ]\n",
            " [-1.84919103  1.          0.          0.        ]\n",
            " [-0.45964332 -0.25012194  1.          0.        ]\n",
            " [ 2.76866152 -0.30794361 -5.35228302  1.        ]]\n",
            "\n",
            "[[ 2.17560000e+00  4.02310000e+00 -2.17320000e+00  5.19670000e+00]\n",
            " [ 0.00000000e+00  1.34394804e+01 -4.01866194e+00  1.08069910e+01]\n",
            " [ 0.00000000e+00  4.44089210e-16 -8.92952394e-01  5.09169403e+00]\n",
            " [ 0.00000000e+00  0.00000000e+00  0.00000000e+00  1.20361280e+01]]\n"
          ]
        }
      ]
    },
    {
      "cell_type": "markdown",
      "source": [
        "Septimo Literal"
      ],
      "metadata": {
        "id": "liR83aJ-GEXN"
      }
    },
    {
      "cell_type": "code",
      "source": [
        "def eliminacion_gaussiana(A: np.ndarray) -> np.ndarray:\n",
        "    if not isinstance(A, np.ndarray):\n",
        "        A = np.array(A)\n",
        "    assert A.shape[0] == A.shape[1] - 1, \"La matriz A debe ser de tamanio n-by-(n+1).\"\n",
        "    n = A.shape[0]\n",
        "\n",
        "    for i in range(0, n - 1):  # loop por columna\n",
        "\n",
        "        # --- encontrar pivote\n",
        "        p = None  # default, first element\n",
        "        for pi in range(i, n):\n",
        "            if A[pi, i] == 0:\n",
        "                # must be nonzero\n",
        "                continue\n",
        "\n",
        "            if p is None:\n",
        "                # first nonzero element\n",
        "                p = pi\n",
        "                continue\n",
        "\n",
        "            if abs(A[pi, i]) < abs(A[p, i]):\n",
        "                p = pi\n",
        "\n",
        "        if p is None:\n",
        "            # no pivot found.\n",
        "            raise ValueError(\"No existe solucion unica.\")\n",
        "\n",
        "        if p != i:\n",
        "            # swap rows\n",
        "            _aux = A[i, :].copy()\n",
        "            A[i, :] = A[p, :].copy()\n",
        "            A[p, :] = _aux\n",
        "\n",
        "        for j in range(i + 1, n):\n",
        "            m = A[j, i] / A[i, i]\n",
        "            A[j, i:] = A[j, i:] - m * A[i, i:]\n",
        "\n",
        "\n",
        "    if A[n - 1, n - 1] == 0:\n",
        "        raise ValueError(\"No existe solucion unica.\")\n",
        "\n",
        "        print(f\"\\n{A}\")\n",
        "    solucion = np.zeros(n)\n",
        "    solucion[n - 1] = A[n - 1, n] / A[n - 1, n - 1]\n",
        "\n",
        "    for i in range(n - 2, -1, -1):\n",
        "        suma = 0\n",
        "        for j in range(i + 1, n):\n",
        "            suma += A[i, j] * solucion[j]\n",
        "        solucion[i] = (A[i, n] - suma) / A[i, i]\n",
        "\n",
        "    return solucion"
      ],
      "metadata": {
        "id": "HRgPCd7ZGOZV"
      },
      "execution_count": 17,
      "outputs": []
    },
    {
      "cell_type": "markdown",
      "source": [
        "a)"
      ],
      "metadata": {
        "id": "KrHXweIaGF1q"
      }
    },
    {
      "cell_type": "code",
      "source": [
        "A = [\n",
        "    [2, -1, 1, -1],\n",
        "    [3, 3, 9, 0],\n",
        "    [3, 3, 5, 4]\n",
        "]\n",
        "\n",
        "x = eliminacion_gaussiana(A)\n",
        "print(x)"
      ],
      "metadata": {
        "colab": {
          "base_uri": "https://localhost:8080/"
        },
        "id": "eZLfvR0JGSYY",
        "outputId": "261cac7f-bec8-4f83-b3be-a518a62bb997"
      },
      "execution_count": 18,
      "outputs": [
        {
          "output_type": "stream",
          "name": "stdout",
          "text": [
            "[ 1.  2. -1.]\n"
          ]
        }
      ]
    },
    {
      "cell_type": "markdown",
      "source": [
        "b)"
      ],
      "metadata": {
        "id": "dE954XbrGuH3"
      }
    },
    {
      "cell_type": "code",
      "source": [
        "A = [\n",
        "    [1.012, -2.132, 3.104, 1.984],\n",
        "    [-2.132, 4.096, -7.013, -5.049],\n",
        "    [3.104, -7.013, 0.014, -3.895]\n",
        "]\n",
        "\n",
        "x = eliminacion_gaussiana(A)\n",
        "print(x)"
      ],
      "metadata": {
        "colab": {
          "base_uri": "https://localhost:8080/"
        },
        "id": "vcVOl6DFGu8z",
        "outputId": "661a2e76-5ac8-48ec-8903-eb58d4e5510e"
      },
      "execution_count": 19,
      "outputs": [
        {
          "output_type": "stream",
          "name": "stdout",
          "text": [
            "[1. 1. 1.]\n"
          ]
        }
      ]
    },
    {
      "cell_type": "markdown",
      "source": [
        "c)"
      ],
      "metadata": {
        "id": "LnbQ_ufTG5cn"
      }
    },
    {
      "cell_type": "code",
      "source": [
        "A = [\n",
        "    [2, 0, 0, 0, 3],\n",
        "    [1, 1.5, 0, 0, 4.5],\n",
        "    [0, -3, 0.5, 0, -6.6],\n",
        "    [2, -2, 1, 1, 0.8]\n",
        "]\n",
        "\n",
        "x = eliminacion_gaussiana(A)\n",
        "print(x)"
      ],
      "metadata": {
        "colab": {
          "base_uri": "https://localhost:8080/"
        },
        "id": "2Y2MEglAG6KZ",
        "outputId": "fa84e3b9-5703-4e94-be15-c49697ffb786"
      },
      "execution_count": 20,
      "outputs": [
        {
          "output_type": "stream",
          "name": "stdout",
          "text": [
            "[ 1.5  2.  -1.2  3. ]\n"
          ]
        }
      ]
    },
    {
      "cell_type": "markdown",
      "source": [
        "d)"
      ],
      "metadata": {
        "id": "fOBF80ikHDIp"
      }
    },
    {
      "cell_type": "code",
      "source": [
        "A = [\n",
        "    [2.1756, 4.0231, -2.1732, 5.1967, 17.102],\n",
        "    [-4.0231, 6, 0, 1.1973, -6.1593],\n",
        "    [-1, -5.2107, 1.1111, 0, 3.0004],\n",
        "    [6.0235, 7, 0, -4.1561, 0]\n",
        "]\n",
        "\n",
        "x = eliminacion_gaussiana(A)\n",
        "print(x)\n"
      ],
      "metadata": {
        "colab": {
          "base_uri": "https://localhost:8080/"
        },
        "id": "47Kd4BXuHDy2",
        "outputId": "d8398cf9-ee71-446d-cf77-4dff9a44b1c4"
      },
      "execution_count": 21,
      "outputs": [
        {
          "output_type": "stream",
          "name": "stdout",
          "text": [
            "[2.9398512  0.0706777  5.67773512 4.37981223]\n"
          ]
        }
      ]
    }
  ]
}